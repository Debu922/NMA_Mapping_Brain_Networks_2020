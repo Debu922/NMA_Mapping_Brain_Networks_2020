{
 "cells": [
  {
   "cell_type": "code",
   "execution_count": 18,
   "metadata": {},
   "outputs": [],
   "source": [
    "import numpy as np\n",
    "import csv\n",
    "import glob"
   ]
  },
  {
   "cell_type": "code",
   "execution_count": 2,
   "metadata": {},
   "outputs": [],
   "source": [
    "#Enter path to data folder:\n",
    "data_path = '/NMA/Mapping Brain Networks/data/allData/'\n",
    "\n",
    "#Get list of files in glob\n",
    "session_paths = glob.glob(data_path + '*')"
   ]
  },
  {
   "cell_type": "code",
   "execution_count": 37,
   "metadata": {},
   "outputs": [],
   "source": [
    "#Get number of sessions\n",
    "n_sessions = len(session_paths)"
   ]
  },
  {
   "cell_type": "code",
   "execution_count": 4,
   "metadata": {},
   "outputs": [],
   "source": [
    "#This cell loads all the intervals\n",
    "\n",
    "#Define dictionaries.\n",
    "spontaneous_intervals = {}\n",
    "trials_intervals = {}\n",
    "\n",
    "#Load intervals\n",
    "for session, path in enumerate(session_paths):\n",
    "    \n",
    "    spontaneous_intervals[session] = np.load(path + '/spontaneous.intervals.npy', allow_pickle=True)\n",
    "    trials_intervals[session] = np.load(path + '/trials.intervals.npy', allow_pickle = True)\n",
    "    "
   ]
  },
  {
   "cell_type": "code",
   "execution_count": 5,
   "metadata": {},
   "outputs": [],
   "source": [
    "#This cell loads the spikes\n",
    "\n",
    "#Define dictionaries\n",
    "spikes_amps = {}\n",
    "spikes_clusters = {}\n",
    "spikes_depths = {}\n",
    "spikes_times = {}\n",
    "\n",
    "for session, path in enumerate(session_paths):\n",
    "    \n",
    "    spikes_amps[session] = np.load(path + '/spikes.amps.npy', allow_pickle = True)\n",
    "    spikes_clusters[session] = np.load(path + '/spikes.clusters.npy', allow_pickle = True)\n",
    "    spikes_depths[session] = np.load(path + '/spikes.depths.npy', allow_pickle = True)\n",
    "    spikes_times[session] = np.load(path + '/spikes.times.npy', allow_pickle = True)\n"
   ]
  },
  {
   "cell_type": "code",
   "execution_count": 38,
   "metadata": {},
   "outputs": [],
   "source": [
    "#This cell loads the cluster data\n",
    "\n",
    "#Define dictionaries\n",
    "channel_brainLocations = {x:[] for x in range(n_sessions)} #\n",
    "clusters_phy_annotation = {}\n",
    "clusters_peakChannel = {}\n",
    "\n",
    "for session, path in enumerate(session_paths):\n",
    "    clusters_phy_annotation[session] = np.load(path + '/clusters._phy_annotation.npy', allow_pickle = True)\n",
    "    clusters_peakChannel[session] = np.load(path + '/clusters.peakChannel.npy', allow_pickle = True)\n",
    "    with open(path + '/channels.brainLocation.tsv') as tsvfile:\n",
    "        reader = csv.DictReader(tsvfile, dialect='excel-tab')\n",
    "        for row in reader:\n",
    "            channel_brainLocations[session].append(row['allen_ontology'])"
   ]
  }
 ],
 "metadata": {
  "kernelspec": {
   "display_name": "Python 3",
   "language": "python",
   "name": "python3"
  },
  "language_info": {
   "codemirror_mode": {
    "name": "ipython",
    "version": 3
   },
   "file_extension": ".py",
   "mimetype": "text/x-python",
   "name": "python",
   "nbconvert_exporter": "python",
   "pygments_lexer": "ipython3",
   "version": "3.7.6"
  }
 },
 "nbformat": 4,
 "nbformat_minor": 4
}
