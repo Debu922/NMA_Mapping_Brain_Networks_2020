{
 "cells": [
  {
   "cell_type": "code",
   "execution_count": null,
   "metadata": {},
   "outputs": [],
   "source": [
    "#############################################################\n",
    "# Author(s): Debaditya, Anwesha, Anna                       #\n",
    "#############################################################"
   ]
  },
  {
   "cell_type": "code",
   "execution_count": null,
   "metadata": {},
   "outputs": [],
   "source": [
    "#Download the data files.\n",
    "\n",
    "import os, requests\n",
    "\n",
    "fname = []\n",
    "for j in range(3):\n",
    "    fname.append('steinmetz_part%d.npz'%j)\n",
    "url = [\"https://osf.io/agvxh/download\"]\n",
    "url.append(\"https://osf.io/uv3mw/download\")\n",
    "url.append(\"https://osf.io/ehmw2/download\")\n",
    "\n",
    "for j in range(len(url)):\n",
    "    if not os.path.isfile(fname[j]):\n",
    "        try:\n",
    "            r = requests.get(url[j])\n",
    "        except requests.ConnectionError:\n",
    "            print(\"!!! Failed to download data !!!\")\n",
    "        else:\n",
    "            if r.status_code != requests.codes.ok:\n",
    "                print(\"!!! Failed to download data !!!\")\n",
    "            else:\n",
    "                with open(fname[j], \"wb\") as fid:\n",
    "                    fid.write(r.content)"
   ]
  },
  {
   "cell_type": "code",
   "execution_count": null,
   "metadata": {},
   "outputs": [],
   "source": [
    "#Setup dependencies\n",
    "\n",
    "#Dependencies:\n",
    "#numpy\n",
    "#matplotlib\n",
    "\n",
    "import numpy as np\n",
    "from matplotlib import rcParams \n",
    "from matplotlib import pyplot as plt\n",
    "import matplotlib.gridspec as gridspec\n",
    "\n",
    "rcParams['figure.figsize'] = [20, 10]\n",
    "rcParams['axes.spines.top'] = False\n",
    "rcParams['axes.spines.right'] = False\n",
    "rcParams['figure.autolayout'] = True"
   ]
  },
  {
   "cell_type": "code",
   "execution_count": null,
   "metadata": {},
   "outputs": [],
   "source": [
    "#Groupings of brain regions\n",
    "\n",
    "regions = [\"vis ctx\", \"thal\", \"hipp\", \"other ctx\", \"midbrain\", \"basal ganglia\", \"cortical subplate\", \"other\"]\n",
    "brain_groups = [[\"VISa\", \"VISam\", \"VISl\", \"VISp\", \"VISpm\", \"VISrl\"], # visual cortex\n",
    "                [\"CL\", \"LD\", \"LGd\", \"LH\", \"LP\", \"MD\", \"MG\", \"PO\", \"POL\", \"PT\", \"RT\", \"SPF\", \"TH\", \"VAL\", \"VPL\", \"VPM\"], # thalamus\n",
    "                [\"CA\", \"CA1\", \"CA2\", \"CA3\", \"DG\", \"SUB\", \"POST\"], # hippocampal\n",
    "                [\"ACA\", \"AUD\", \"COA\", \"DP\", \"ILA\", \"MOp\", \"MOs\", \"OLF\", \"ORB\", \"ORBm\", \"PIR\", \"PL\", \"SSp\", \"SSs\", \"RSP\",\" TT\"], # non-visual cortex\n",
    "                [\"APN\", \"IC\", \"MB\", \"MRN\", \"NB\", \"PAG\", \"RN\", \"SCs\", \"SCm\", \"SCig\", \"SCsg\", \"ZI\"], # midbrain\n",
    "                [\"ACB\", \"CP\", \"GPe\", \"LS\", \"LSc\", \"LSr\", \"MS\", \"OT\", \"SNr\", \"SI\"], # basal ganglia \n",
    "                [\"BLA\", \"BMA\", \"EP\", \"EPd\", \"MEA\"] # cortical subplate\n",
    "                ]\n",
    "n_regions = len(regions)"
   ]
  },
  {
   "cell_type": "code",
   "execution_count": null,
   "metadata": {},
   "outputs": [],
   "source": [
    "#Load the data\n",
    "\n",
    "def load_alldat():\n",
    "    alldat = np.array([])\n",
    "    for j in range(len(fname)):\n",
    "        alldat = np.hstack((alldat, np.load('steinmetz_part%d.npz'%j, allow_pickle=True)['dat']))\n",
    "    return alldat\n",
    "\n",
    "alldat = load_alldat()"
   ]
  },
  {
   "cell_type": "code",
   "execution_count": null,
   "metadata": {},
   "outputs": [],
   "source": [
    "#Print the keys\n",
    "\n",
    "print(\"The keys in this dataset are:\\n----\")\n",
    "for key in alldat[0].keys():\n",
    "    print(key)"
   ]
  },
  {
   "cell_type": "code",
   "execution_count": null,
   "metadata": {},
   "outputs": [],
   "source": [
    "#Print information about brain area in mice:\n",
    "\n",
    "for idx, dat in enumerate(alldat):\n",
    "    print(idx,dat['mouse_name'],dat['date_exp'],np.unique(dat['brain_area']))"
   ]
  },
  {
   "cell_type": "code",
   "execution_count": null,
   "metadata": {},
   "outputs": [],
   "source": [
    "#Select session\n",
    "\n",
    "dat = alldat[11]\n",
    "dt = dat['bin_size']"
   ]
  },
  {
   "cell_type": "code",
   "execution_count": null,
   "metadata": {},
   "outputs": [],
   "source": [
    "#Generate some metadata for the neuron regions.\n",
    "\n",
    "def generate_metadata(dat):\n",
    "    n_neurons = (len(dat['brain_area']))\n",
    "    n_regions = len(regions)\n",
    "    region_index = np.ones(n_neurons)*n_regions\n",
    "    group_index = np.ones(n_neurons)*n_regions\n",
    "    for region in range(len(regions)-1):\n",
    "        region_index[np.isin(dat['brain_area'], brain_groups[region])] = region\n",
    "        for group in range(len(brain_groups[region])):\n",
    "            group_index[np.isin(dat['brain_area'],brain_groups[region][group])] = group\n",
    "    return n_neurons, region_index, group_index"
   ]
  },
  {
   "cell_type": "code",
   "execution_count": null,
   "metadata": {},
   "outputs": [],
   "source": [
    "#Define function to print plots\n",
    "\n",
    "def pcolormesh_with_means(region,spikes,session):\n",
    "    for group in range(len(brain_groups[region])):\n",
    "        if np.sum(np.logical_and(region_index==region,group_index == group)):\n",
    "            print(np.shape(spikes[:][np.logical_and(region_index==region,group_index == group),:]))\n",
    "            \n",
    "            fig = plt.figure(constrained_layout=False)\n",
    "            fig.suptitle(\"Avg Spike rate of all neurons in region \"+brain_groups[region][group]+\" for session \"+str(session))\n",
    "            gs = fig.add_gridspec(4, 5)\n",
    "            \n",
    "            fig_raster= fig.add_subplot(gs[:3, :4])\n",
    "            raster_plot = fig_raster.pcolormesh(np.sum(spikes[:][np.logical_and(region_index==region,group_index == group),:],axis=0))\n",
    "            fig_raster.set_ylabel(\"Trials\")\n",
    "            fig_raster.set_xlabel(\"Binned Time (10ms)\")\n",
    "                        \n",
    "            fig_avg_trial = fig.add_subplot(gs[3,:4], sharex=fig_raster)\n",
    "            fig_avg_trial.plot(np.mean(spikes[:][np.logical_and(region_index==region,group_index == group),:],axis=(0,1))/dt)\n",
    "            fig_avg_trial.set_ylabel(\"Mean FR(Hz)\")\n",
    "            fig_avg_trial.set_xlabel(\"Binned Time (10ms)\")\n",
    "            fig_avg_trial.set_title(\"Mean Firing Rate Across Trials\")\n",
    "            \n",
    "            fig_avg_time = fig.add_subplot(gs[:3,4],sharey=fig_raster)\n",
    "            fig_avg_time.plot(np.mean(spikes[:][np.logical_and(region_index==region,group_index == group),:],axis=(0,2))/dt,range(np.shape(spikes)[1]))\n",
    "            fig_avg_time.set_ylabel(\"Trials\")\n",
    "            fig_avg_time.set_xlabel(\"Mean FR (Hz)\")\n",
    "            fig_avg_time.set_title(\"Mean Firing in Trial\")\n",
    "            \n",
    "            plt.show()\n"
   ]
  },
  {
   "cell_type": "code",
   "execution_count": null,
   "metadata": {},
   "outputs": [],
   "source": [
    "#Print all plots\n",
    "\n",
    "n_regions = len(regions)\n",
    "for session, dat in enumerate(alldat):\n",
    "    n_neurons, region_index, group_index = generate_metadata(dat)\n",
    "    spikes = dat['spks']\n",
    "    for region in range(n_regions-1):\n",
    "        pcolormesh_with_means(region,spikes,session)\n",
    "        "
   ]
  },
  {
   "cell_type": "code",
   "execution_count": null,
   "metadata": {},
   "outputs": [],
   "source": [
    "#Normalize spikes\n",
    "\n",
    "print(np.shape(dat['spks']))\n",
    "print(np.shape(dat['spks_passive']))\n",
    "spikes = dat['spks']-np.mean(dat['spks_passive'],axis=(1,2))[0]"
   ]
  },
  {
   "cell_type": "code",
   "execution_count": null,
   "metadata": {},
   "outputs": [],
   "source": [
    "#Define function to print all mean plots.\n",
    "for session in range(39):\n",
    "    dat = alldat[session]\n",
    "    spikes = dat['spks']-np.mean(dat['spks_passive'],axis=(1,2))[0]\n",
    "    for idx, region in enumerate(np.unique(dat['brain_area'])):\n",
    "        if np.mod(idx,3)==0:\n",
    "            fig, axs = plt.subplots(3)\n",
    "            axs[0].plot(np.mean(spikes[:][dat['brain_area']==region,:],axis=(0,1))/dt,label=str(session)+\" \"+region)\n",
    "            axs[0].set_xlabel('Time Bins (10ms)')\n",
    "            axs[0].set_ylabel('Mean Firing Rate Across Trials (Hz)')\n",
    "            axs[0].legend()\n",
    "        if np.mod(idx,3)==1:\n",
    "            axs[1].plot(np.mean(spikes[:][dat['brain_area']==region,:],axis=(0,1))/dt,label=str(session)+\" \"+region)\n",
    "            axs[1].set_xlabel('Time Bins (10ms)')\n",
    "            axs[1].set_ylabel('Mean Firing Rate Across Trials (Hz)')\n",
    "            axs[1].legend()\n",
    "        if np.mod(idx,3)==2:\n",
    "            axs[2].plot(np.mean(spikes[:][dat['brain_area']==region,:],axis=(0,1))/dt,label=str(session)+\" \"+region)\n",
    "            axs[2].set_xlabel('Time Bins (10ms)')\n",
    "            axs[2].set_ylabel('Mean Firing Rate Across Trials (Hz)')\n",
    "            axs[2].legend()\n",
    "            plt.show()\n",
    "    # plt.show() "
   ]
  },
  {
   "cell_type": "code",
   "execution_count": null,
   "metadata": {
    "jupyter": {
     "source_hidden": true
    }
   },
   "outputs": [],
   "source": [
    "#Define function to print plots\n",
    "\n",
    "def pcolormesh_with_single_neuron(region,spikes,session,neuron):\n",
    "    for group in range(len(brain_groups[region])):\n",
    "        if np.sum(np.logical_and(region_index==region,group_index == group)):\n",
    "            print(np.shape(spikes[:][np.logical_and(region_index==region,group_index == group),:]))\n",
    "            \n",
    "            fig = plt.figure(constrained_layout=False)\n",
    "            fig.suptitle(\"Avg Spike rate of a single neurons in region \"+brain_groups[region][group]+\" for session \"+str(session))\n",
    "            gs = fig.add_gridspec(4, 5)\n",
    "            \n",
    "            fig_raster= fig.add_subplot(gs[:3, :4])\n",
    "            t_spikes = spikes[:][np.logical_and(region_index==region,group_index == group),:]\n",
    "            raster_plot = fig_raster.pcolormesh(t_spikes[:][neuron,:])\n",
    "            fig_raster.set_ylabel(\"Trials\")\n",
    "            fig_raster.set_xlabel(\"Binned Time (10ms)\")\n",
    "                        \n",
    "            fig_avg_trial = fig.add_subplot(gs[3,:4], sharex=fig_raster)\n",
    "            fig_avg_trial.plot(np.mean(t_spikes[:][neuron,:],axis=(0))/dt)\n",
    "            fig_avg_trial.set_ylabel(\"Mean FR(Hz)\")\n",
    "            fig_avg_trial.set_xlabel(\"Binned Time (10ms)\")\n",
    "            fig_avg_trial.set_title(\"Mean Firing Rate Across Trials\")\n",
    "            \n",
    "            fig_avg_time = fig.add_subplot(gs[:3,4],sharey=fig_raster)\n",
    "            fig_avg_time.plot(np.mean(t_spikes[:][neuron,:],axis=(1))/dt,range(np.shape(t_spikes)[1]))\n",
    "            fig_avg_time.set_ylabel(\"Trials\")\n",
    "            fig_avg_time.set_xlabel(\"Mean FR (Hz)\")\n",
    "            fig_avg_time.set_title(\"Mean Firing in Trial\")\n",
    "            \n",
    "            plt.show()\n"
   ]
  },
  {
   "cell_type": "code",
   "execution_count": null,
   "metadata": {},
   "outputs": [],
   "source": [
    "dat = alldat[11]\n",
    "n_neurons, region_index, group_index = generate_metadata(dat)\n",
    "spikes = dat['spks']\n",
    "for region in range(n_regions-1):\n",
    "    pcolormesh_with_single_neuron(region,spikes,11,0)"
   ]
  },
  {
   "cell_type": "markdown",
   "metadata": {},
   "source": [
    "The above results are not too useful. We have plotted the graphs once again, but this time we decided to plot for a single neuron and look at how it evolves over time. This does not seem to give a good indication of activity at all. We shall now be looking at how to plot the graphs based on only averages of all neurons on a trial wise basis."
   ]
  },
  {
   "cell_type": "code",
   "execution_count": null,
   "metadata": {},
   "outputs": [],
   "source": [
    "session = 10\n",
    "dat = alldat[session]\n",
    "spikes = dat['spks']-np.mean(dat['spks_passive'],axis=(1,2))[0]\n",
    "n_neurons, region_index, group_index = generate_metadata(dat)\n",
    "trial = 36\n",
    "\n",
    "print(np.shape(spikes))\n",
    "for idx, region in enumerate(np.unique(dat['brain_area'])):\n",
    "    if np.mod(idx,3)==0:\n",
    "        fig, axs = plt.subplots(3)\n",
    "        axs[0].plot(np.mean(spikes[dat['brain_area']==region,trial,:],axis=(0))/dt,label=str(session)+\" \"+region)\n",
    "        axs[0].set_xlabel('Time Bins (10ms)')\n",
    "        axs[0].set_ylabel('Mean Firing Rate for Trials '+str(trial)+' (Hz)')\n",
    "        axs[0].legend()\n",
    "    if np.mod(idx,3)==1:\n",
    "        axs[1].plot(np.mean(spikes[dat['brain_area']==region,trial,:],axis=(0))/dt,label=str(session)+\" \"+region)\n",
    "        axs[1].set_xlabel('Time Bins (10ms)')\n",
    "        axs[1].set_ylabel('Mean Firing Rate for Trials '+str(trial)+' (Hz)')\n",
    "        axs[1].legend()\n",
    "    if np.mod(idx,3)==2:\n",
    "        axs[2].plot(np.mean(spikes[dat['brain_area']==region,trial,:],axis=(0))/dt,label=str(session)+\" \"+region)\n",
    "        axs[2].set_xlabel('Time Bins (10ms)')\n",
    "        axs[2].set_ylabel('Mean Firing Rate for Trials '+str(trial)+' (Hz)')\n",
    "        axs[2].legend()\n",
    "        plt.show()"
   ]
  },
  {
   "cell_type": "markdown",
   "metadata": {},
   "source": [
    "As we can see despite trying to plot the events trial wise, they don't seem to look very nice. But as looks can be decieving we shall try to run a cross correlation anyway.\n",
    "\n",
    "The correlation that we shall run will be a simple one."
   ]
  },
  {
   "cell_type": "code",
   "execution_count": null,
   "metadata": {},
   "outputs": [],
   "source": [
    "session = 0\n",
    "dat = alldat[session]\n",
    "spikes = dat['spks']-np.mean(dat['spks_passive'],axis=(1,2))[0]\n",
    "n_neurons, region_index, group_index = generate_metadata(dat)\n",
    "n_trials = np.shape(spikes)[1]\n",
    "avg_corrcoef = np.zeros((len(np.unique(dat['brain_area'])),len(np.unique(dat['brain_area']))))\n",
    "for trial in range(n_trials):\n",
    "    avg_area_response = avg_area_response = np.zeros((len(np.unique(dat['brain_area'])),np.shape(spikes)[2]))\n",
    "    for idx, region in enumerate(np.unique(dat['brain_area'])):\n",
    "        avg_area_response[idx,:]=np.mean(spikes[dat['brain_area']==region,trial,:],axis=(0))/dt\n",
    "    avg_corrcoef += np.corrcoef(avg_area_response)\n",
    "\n",
    "avg_corrcoef/=n_trials+1\n",
    "fig, ax = plt.subplots(1,1)\n",
    "c=ax.pcolor(avg_corrcoef)\n",
    "plt.colorbar(c)\n",
    "ax.set_xticks(ax.get_xticks()[:-1]+0.5)\n",
    "ax.set_yticks(ax.get_yticks()[:-1]+0.5)\n",
    "ax.set_xticklabels(np.unique(dat['brain_area']))\n",
    "ax.set_yticklabels(np.unique(dat['brain_area']))\n",
    "plt.title(\"Corrcoef of regions for session \"+str(session)+\" across all trials.\")\n",
    "plt.show()"
   ]
  },
  {
   "cell_type": "markdown",
   "metadata": {},
   "source": [
    "As you can see, the correlation coefficient is being calculated properly. so I think there is no issue with this. Let us try to plot the same for all sessions."
   ]
  },
  {
   "cell_type": "code",
   "execution_count": null,
   "metadata": {},
   "outputs": [],
   "source": [
    "for session in range(39):\n",
    "    dat = alldat[session]\n",
    "    spikes = dat['spks']-np.mean(dat['spks_passive'],axis=(1,2))[0]\n",
    "    n_neurons, region_index, group_index = generate_metadata(dat)\n",
    "    n_trials = np.shape(spikes)[1]\n",
    "    avg_corrcoef = np.zeros((len(np.unique(dat['brain_area'])),len(np.unique(dat['brain_area']))))\n",
    "    for trial in range(n_trials):\n",
    "        avg_area_response = avg_area_response = np.zeros((len(np.unique(dat['brain_area'])),np.shape(spikes)[2]))\n",
    "        for idx, region in enumerate(np.unique(dat['brain_area'])):\n",
    "            avg_area_response[idx,:]=np.mean(spikes[dat['brain_area']==region,trial,:],axis=(0))/dt\n",
    "        avg_corrcoef += np.corrcoef(avg_area_response)\n",
    "\n",
    "    avg_corrcoef/=n_trials+1\n",
    "    fig, ax = plt.subplots(1,1)\n",
    "    c=ax.pcolor(avg_corrcoef)\n",
    "    plt.colorbar(c)\n",
    "    ax.set_xticks(ax.get_xticks()[:-1]+0.5)\n",
    "    ax.set_yticks(ax.get_yticks()[:-1]+0.5)\n",
    "    ax.set_xticklabels(np.unique(dat['brain_area']))\n",
    "    ax.set_yticklabels(np.unique(dat['brain_area']))\n",
    "    plt.title(\"Corrcoef of regions for session \"+str(session)+\" across all trials.\")\n",
    "    plt.show()"
   ]
  },
  {
   "cell_type": "code",
   "execution_count": 107,
   "metadata": {},
   "outputs": [
    {
     "data": {
      "text/plain": [
       "22"
      ]
     },
     "execution_count": 107,
     "metadata": {},
     "output_type": "execute_result"
    }
   ],
   "source": [
    "import gc\n",
    "gc.collect()"
   ]
  },
  {
   "cell_type": "code",
   "execution_count": null,
   "metadata": {},
   "outputs": [],
   "source": []
  }
 ],
 "metadata": {
  "kernelspec": {
   "display_name": "Python 3",
   "language": "python",
   "name": "python3"
  },
  "language_info": {
   "codemirror_mode": {
    "name": "ipython",
    "version": 3
   },
   "file_extension": ".py",
   "mimetype": "text/x-python",
   "name": "python",
   "nbconvert_exporter": "python",
   "pygments_lexer": "ipython3",
   "version": "3.7.6"
  }
 },
 "nbformat": 4,
 "nbformat_minor": 4
}
