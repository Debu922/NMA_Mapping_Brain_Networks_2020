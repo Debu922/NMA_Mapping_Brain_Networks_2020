{
 "cells": [
  {
   "cell_type": "code",
   "execution_count": 1,
   "metadata": {},
   "outputs": [],
   "source": [
    "import loadData\n",
    "import numpy as np\n",
    "import matplotlib.pyplot as plt\n",
    "import glob"
   ]
  },
  {
   "cell_type": "code",
   "execution_count": 2,
   "metadata": {},
   "outputs": [
    {
     "name": "stdout",
     "output_type": "stream",
     "text": [
      "Data for session 11 loaded.\n",
      "Data for session 12 loaded.\n"
     ]
    }
   ],
   "source": [
    "#Enter path to data folder:\n",
    "data_root = '/NMA/Mapping Brain Networks/data/allData'\n",
    "\n",
    "#Get list of files in glob\n",
    "session_paths = glob.glob(data_root + '/*')\n",
    "\n",
    "#Groupings of brain regions\n",
    "regions = [\"vis ctx\", \"thal\", \"hipp\", \"other ctx\", \"midbrain\",  \"basal ganglia\", \"subplate\"]\n",
    "brain_groups = [[\"VISa\", \"VISam\", \"VISl\", \"VISp\", \"VISpm\", \"VISrl\"], # visual cortex\n",
    "                [\"CL\", \"LD\", \"LGd\", \"LH\", \"LP\", \"MD\", \"MG\", \"PO\", \"POL\", \"PT\", \"RT\", \"SPF\", \"TH\", \"VAL\", \"VPL\", \"VPM\"], # thalamus\n",
    "                [\"CA\", \"CA1\", \"CA2\", \"CA3\", \"DG\", \"SUB\", \"POST\"], # hippocampal\n",
    "                [\"ACA\", \"AUD\", \"COA\", \"DP\", \"ILA\", \"MOp\", \"MOs\", \"OLF\", \"ORB\", \"ORBm\", \"PIR\", \"PL\", \"SSp\", \"SSs\", \"RSP\",\" TT\"], # non-visual cortex\n",
    "                [\"APN\", \"IC\", \"MB\", \"MRN\", \"NB\", \"PAG\", \"RN\", \"SCs\", \"SCm\", \"SCig\", \"SCsg\", \"ZI\"], # midbrain\n",
    "                [\"ACB\", \"CP\", \"GPe\", \"LS\", \"LSc\", \"LSr\", \"MS\", \"OT\", \"SNr\", \"SI\"], # basal ganglia \n",
    "                [\"BLA\", \"BMA\", \"EP\", \"EPd\", \"MEA\"] # cortical subplate\n",
    "               ]\n",
    "\n",
    "#Define sessions to load\n",
    "sessions = [11,12] #Pick which sessions to load.\n",
    "\n",
    "#Load sessions\n",
    "dat = {}\n",
    "for session in sessions:\n",
    "    dat[session] = {}\n",
    "    path = session_paths[session]\n",
    "    \n",
    "    session_date, mouse_name = loadData.get_session_info(data_root, path)\n",
    "    good_clusters, cluster_locations = loadData.get_cluster_info(path)\n",
    "    cluster_spikes = loadData.get_cluster_spikes(path)\n",
    "    trial_intervals, visualStim_times, goCue_times, response_times, feedback_times, feedback_type = loadData.get_trial_info(path) \n",
    "    \n",
    "    dat[session]['session_date'] = session_date\n",
    "    dat[session]['mouse_name'] = mouse_name\n",
    "    dat[session]['good_clusters'] = good_clusters\n",
    "    dat[session]['cluster_locations'] = cluster_locations\n",
    "    dat[session]['cluster_spikes'] = cluster_spikes\n",
    "    dat[session]['trial_intervals'] = trial_intervals\n",
    "    dat[session]['visualStim_times'] = visualStim_times\n",
    "    dat[session]['goCue_times'] = goCue_times\n",
    "    dat[session]['response_times'] = response_times\n",
    "    dat[session]['feedback_times'] = feedback_times\n",
    "    dat[session]['feedback_type'] = feedback_type\n",
    "    \n",
    "    print('Data for session',session,'loaded.')"
   ]
  },
  {
   "cell_type": "code",
   "execution_count": 3,
   "metadata": {},
   "outputs": [],
   "source": [
    "#We want to look at only one trial\n",
    "tDat = dat[11]"
   ]
  },
  {
   "cell_type": "code",
   "execution_count": 4,
   "metadata": {},
   "outputs": [
    {
     "name": "stdout",
     "output_type": "stream",
     "text": [
      "dict_keys(['session_date', 'mouse_name', 'good_clusters', 'cluster_locations', 'cluster_spikes', 'trial_intervals', 'visualStim_times', 'goCue_times', 'response_times', 'feedback_times', 'feedback_type'])\n"
     ]
    }
   ],
   "source": [
    "#Lets have a look at the keys\n",
    "print(tDat.keys())"
   ]
  },
  {
   "cell_type": "code",
   "execution_count": 27,
   "metadata": {},
   "outputs": [],
   "source": [
    "#lets plot a raster plot\n",
    "def plotRaster(channel_spikes,interval):\n",
    "    interval = interval.flatten()\n",
    "    raster_spikes = []\n",
    "    print(cluster_spikes)\n",
    "    for spikes in channel_spikes:\n",
    "        print(spikes)\n",
    "        trial_loc = np.where(np.logical_and(spikes>=interval[0], spikes<interval[1]))[0]\n",
    "        print(trial_loc)\n",
    "        raster_spikes.append(spikes[trial_loc])"
   ]
  },
  {
   "cell_type": "code",
   "execution_count": 28,
   "metadata": {},
   "outputs": [
    {
     "name": "stdout",
     "output_type": "stream",
     "text": [
      "[ 107.05645659  107.24598955  107.25798953 ... 3115.52167178 3169.27290057\n",
      " 3302.15177545]\n",
      "3.3306905004351046\n",
      "[]\n"
     ]
    },
    {
     "ename": "IndexError",
     "evalue": "invalid index to scalar variable.",
     "output_type": "error",
     "traceback": [
      "\u001b[1;31m---------------------------------------------------------------------------\u001b[0m",
      "\u001b[1;31mIndexError\u001b[0m                                Traceback (most recent call last)",
      "\u001b[1;32m<ipython-input-28-dfdc9ccc8dfa>\u001b[0m in \u001b[0;36m<module>\u001b[1;34m\u001b[0m\n\u001b[1;32m----> 1\u001b[1;33m \u001b[0mplotRaster\u001b[0m\u001b[1;33m(\u001b[0m\u001b[0mtDat\u001b[0m\u001b[1;33m[\u001b[0m\u001b[1;34m'cluster_spikes'\u001b[0m\u001b[1;33m]\u001b[0m\u001b[1;33m,\u001b[0m\u001b[0mtDat\u001b[0m\u001b[1;33m[\u001b[0m\u001b[1;34m'trial_intervals'\u001b[0m\u001b[1;33m]\u001b[0m\u001b[1;33m[\u001b[0m\u001b[1;36m0\u001b[0m\u001b[1;33m,\u001b[0m\u001b[1;33m:\u001b[0m\u001b[1;33m]\u001b[0m\u001b[1;33m)\u001b[0m\u001b[1;33m\u001b[0m\u001b[1;33m\u001b[0m\u001b[0m\n\u001b[0m",
      "\u001b[1;32m<ipython-input-27-0ebf4e3f731b>\u001b[0m in \u001b[0;36mplotRaster\u001b[1;34m(channel_spikes, interval)\u001b[0m\n\u001b[0;32m      8\u001b[0m         \u001b[0mtrial_loc\u001b[0m \u001b[1;33m=\u001b[0m \u001b[0mnp\u001b[0m\u001b[1;33m.\u001b[0m\u001b[0mwhere\u001b[0m\u001b[1;33m(\u001b[0m\u001b[0mnp\u001b[0m\u001b[1;33m.\u001b[0m\u001b[0mlogical_and\u001b[0m\u001b[1;33m(\u001b[0m\u001b[0mspikes\u001b[0m\u001b[1;33m>=\u001b[0m\u001b[0minterval\u001b[0m\u001b[1;33m[\u001b[0m\u001b[1;36m0\u001b[0m\u001b[1;33m]\u001b[0m\u001b[1;33m,\u001b[0m \u001b[0mspikes\u001b[0m\u001b[1;33m<\u001b[0m\u001b[0minterval\u001b[0m\u001b[1;33m[\u001b[0m\u001b[1;36m1\u001b[0m\u001b[1;33m]\u001b[0m\u001b[1;33m)\u001b[0m\u001b[1;33m)\u001b[0m\u001b[1;33m[\u001b[0m\u001b[1;36m0\u001b[0m\u001b[1;33m]\u001b[0m\u001b[1;33m\u001b[0m\u001b[1;33m\u001b[0m\u001b[0m\n\u001b[0;32m      9\u001b[0m         \u001b[0mprint\u001b[0m\u001b[1;33m(\u001b[0m\u001b[0mtrial_loc\u001b[0m\u001b[1;33m)\u001b[0m\u001b[1;33m\u001b[0m\u001b[1;33m\u001b[0m\u001b[0m\n\u001b[1;32m---> 10\u001b[1;33m         \u001b[0mraster_spikes\u001b[0m\u001b[1;33m.\u001b[0m\u001b[0mappend\u001b[0m\u001b[1;33m(\u001b[0m\u001b[0mspikes\u001b[0m\u001b[1;33m[\u001b[0m\u001b[0mtrial_loc\u001b[0m\u001b[1;33m]\u001b[0m\u001b[1;33m)\u001b[0m\u001b[1;33m\u001b[0m\u001b[1;33m\u001b[0m\u001b[0m\n\u001b[0m",
      "\u001b[1;31mIndexError\u001b[0m: invalid index to scalar variable."
     ]
    }
   ],
   "source": [
    "plotRaster(tDat['cluster_spikes'],tDat['trial_intervals'][0,:])"
   ]
  },
  {
   "cell_type": "code",
   "execution_count": 24,
   "metadata": {},
   "outputs": [
    {
     "data": {
      "text/plain": [
       "array([63.62583906, 73.98820023])"
      ]
     },
     "execution_count": 24,
     "metadata": {},
     "output_type": "execute_result"
    }
   ],
   "source": [
    "tDat['trial_intervals'][0,:]"
   ]
  }
 ],
 "metadata": {
  "kernelspec": {
   "display_name": "Python 3",
   "language": "python",
   "name": "python3"
  },
  "language_info": {
   "codemirror_mode": {
    "name": "ipython",
    "version": 3
   },
   "file_extension": ".py",
   "mimetype": "text/x-python",
   "name": "python",
   "nbconvert_exporter": "python",
   "pygments_lexer": "ipython3",
   "version": "3.7.6"
  }
 },
 "nbformat": 4,
 "nbformat_minor": 4
}
