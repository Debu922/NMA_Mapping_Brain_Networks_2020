{
 "cells": [
  {
   "cell_type": "code",
   "execution_count": null,
   "metadata": {},
   "outputs": [],
   "source": [
    "import os, requests\n",
    "\n",
    "fname = []\n",
    "for j in range(3):\n",
    "  fname.append('steinmetz_part%d.npz'%j)\n",
    "url = [\"https://osf.io/agvxh/download\"]\n",
    "url.append(\"https://osf.io/uv3mw/download\")\n",
    "url.append(\"https://osf.io/ehmw2/download\")\n",
    "\n",
    "for j in range(len(url)):\n",
    "  if not os.path.isfile(fname[j]):\n",
    "    try:\n",
    "      r = requests.get(url[j])\n",
    "    except requests.ConnectionError:\n",
    "      print(\"!!! Failed to download data !!!\")\n",
    "    else:\n",
    "      if r.status_code != requests.codes.ok:\n",
    "        print(\"!!! Failed to download data !!!\")\n",
    "      else:\n",
    "        with open(fname[j], \"wb\") as fid:\n",
    "          fid.write(r.content)"
   ]
  },
  {
   "cell_type": "code",
   "execution_count": null,
   "metadata": {},
   "outputs": [],
   "source": [
    "from matplotlib import rcParams \n",
    "from matplotlib import pyplot as plt\n",
    "rcParams['figure.figsize'] = [20, 10]\n",
    "rcParams['font.size'] =15\n",
    "rcParams['axes.spines.top'] = False\n",
    "rcParams['axes.spines.right'] = False\n",
    "rcParams['figure.autolayout'] = True"
   ]
  },
  {
   "cell_type": "code",
   "execution_count": null,
   "metadata": {},
   "outputs": [],
   "source": [
    "import numpy as np\n",
    "\n",
    "alldat = np.array([])\n",
    "for j in range(len(fname)):\n",
    "  alldat = np.hstack((alldat, np.load('steinmetz_part%d.npz'%j, allow_pickle=True)['dat']))\n",
    "\n",
    "# select just one of the recordings here. 11 is nice because it has some neurons in vis ctx. \n",
    "dat = alldat[11]\n",
    "print(dat.keys())"
   ]
  },
  {
   "cell_type": "code",
   "execution_count": null,
   "metadata": {},
   "outputs": [],
   "source": [
    "import gc\n",
    "gc.collect()"
   ]
  },
  {
   "cell_type": "code",
   "execution_count": null,
   "metadata": {},
   "outputs": [],
   "source": [
    "#@title basic plots of population average\n",
    "from matplotlib import pyplot as plt\n",
    "dt = dat['bin_size'] # binning at 10 ms\n",
    "NT = dat['spks'].shape[-1]\n",
    "\n",
    "ax = plt.subplot(1,5,1)\n",
    "response = dat['response'] # right - nogo - left (-1, 0, 1)\n",
    "vis_right = dat['contrast_right'] # 0 - low - high\n",
    "vis_left = dat['contrast_left'] # 0 - low - high\n",
    "plt.plot(dt * np.arange(NT), 1/dt * dat['spks'][:,response>=0].mean(axis=(0,1))) # left responses\n",
    "plt.plot(dt * np.arange(NT), 1/dt * dat['spks'][:,response<0].mean(axis=(0,1))) # right responses\n",
    "plt.plot(dt * np.arange(NT), 1/dt * dat['spks'][:,vis_right>0].mean(axis=(0,1))) # stimulus on the right\n",
    "plt.plot(dt * np.arange(NT), 1/dt * dat['spks'][:,vis_right==0].mean(axis=(0,1))) # no stimulus on the right\n",
    "\n",
    "plt.legend(['left resp', 'right resp', 'right stim', 'no right stim'], fontsize=12)\n",
    "ax.set(xlabel  = 'time (sec)', ylabel = 'firing rate (Hz)');"
   ]
  },
  {
   "cell_type": "code",
   "execution_count": null,
   "metadata": {},
   "outputs": [],
   "source": [
    "print(\"dat['spks']:\",type(dat['spks']), \"shape:\",np.shape(dat['spks']))\n",
    "print(\"dat['spks'][i]\",type(dat['spks'][0]), \"shape:\",np.shape(dat['spks'][0]))\n",
    "print(\"dat['spks'][i][j]\",type(dat['spks'][0][0]), \"shape:\",np.shape(dat['spks'][0][0]))"
   ]
  },
  {
   "cell_type": "code",
   "execution_count": null,
   "metadata": {},
   "outputs": [],
   "source": [
    "def plot_firing_rate_single(trial):\n",
    "    plt.plot(np.mean(dat['spks'][trial],0)/dt)\n",
    "    plt.xlabel('Binned Time (10ms)')\n",
    "    plt.ylabel('Avg Firing Rate (Hz)')\n",
    "    plt.title(\"Avg Firing Rate for all neurons in trial \"+str(trial))\n",
    "    plt.show()\n",
    "\n",
    "for trial in range(340):\n",
    "    plot_firing_rate_single(trial)"
   ]
  },
  {
   "cell_type": "code",
   "execution_count": null,
   "metadata": {},
   "outputs": [],
   "source": [
    "# groupings of brain regions\n",
    "regions = [\"vis ctx\", \"thal\", \"hipp\", \"other ctx\", \"midbrain\", \"basal ganglia\", \"cortical subplate\", \"other\"]\n",
    "brain_groups = [[\"VISa\", \"VISam\", \"VISl\", \"VISp\", \"VISpm\", \"VISrl\"], # visual cortex\n",
    "                [\"CL\", \"LD\", \"LGd\", \"LH\", \"LP\", \"MD\", \"MG\", \"PO\", \"POL\", \"PT\", \"RT\", \"SPF\", \"TH\", \"VAL\", \"VPL\", \"VPM\"], # thalamus\n",
    "                [\"CA\", \"CA1\", \"CA2\", \"CA3\", \"DG\", \"SUB\", \"POST\"], # hippocampal\n",
    "                [\"ACA\", \"AUD\", \"COA\", \"DP\", \"ILA\", \"MOp\", \"MOs\", \"OLF\", \"ORB\", \"ORBm\", \"PIR\", \"PL\", \"SSp\", \"SSs\", \"RSP\",\" TT\"], # non-visual cortex\n",
    "                [\"APN\", \"IC\", \"MB\", \"MRN\", \"NB\", \"PAG\", \"RN\", \"SCs\", \"SCm\", \"SCig\", \"SCsg\", \"ZI\"], # midbrain\n",
    "                [\"ACB\", \"CP\", \"GPe\", \"LS\", \"LSc\", \"LSr\", \"MS\", \"OT\", \"SNr\", \"SI\"], # basal ganglia \n",
    "                [\"BLA\", \"BMA\", \"EP\", \"EPd\", \"MEA\"] # cortical subplate\n",
    "                ]"
   ]
  },
  {
   "cell_type": "code",
   "execution_count": null,
   "metadata": {},
   "outputs": [],
   "source": [
    "print(\"dat['brain_area']:\",type(dat['brain_area']), \"shape:\",np.shape(dat['brain_area']))\n",
    "print(dat['brain_area'][5])"
   ]
  },
  {
   "cell_type": "code",
   "execution_count": null,
   "metadata": {},
   "outputs": [],
   "source": [
    "np.unique(dat['brain_area'])"
   ]
  },
  {
   "cell_type": "code",
   "execution_count": null,
   "metadata": {},
   "outputs": [],
   "source": [
    "NN = (len(dat['brain_area']))\n",
    "n_regions = len(regions)\n",
    "region_index = np.ones(NN)*n_regions\n",
    "group_index = np.ones(NN)*n_regions\n",
    "for region in range(len(regions)-1):\n",
    "    region_index[np.isin(dat['brain_area'], brain_groups[region])] = region\n",
    "    for group in range(len(brain_groups[region])):\n",
    "        group_index[np.isin(dat['brain_area'],brain_groups[region][group])] = group"
   ]
  },
  {
   "cell_type": "code",
   "execution_count": null,
   "metadata": {},
   "outputs": [],
   "source": [
    "print(dat['gocue'])"
   ]
  },
  {
   "cell_type": "code",
   "execution_count": null,
   "metadata": {},
   "outputs": [],
   "source": [
    "gc.collect()"
   ]
  },
  {
   "cell_type": "code",
   "execution_count": null,
   "metadata": {},
   "outputs": [],
   "source": [
    "t_goCue = np.around(dat['gocue'],2)\n",
    "t_goCue = (t_goCue*100).astype(int)\n",
    "no_of_neurons, no_of_trials, total_time= np.shape(dat['spks'])\n",
    "spikes_goCue = np.zeros((no_of_neurons,no_of_trials,50))\n",
    "                       \n",
    "for trial in range(no_of_trials):\n",
    "\n",
    "    spikes_goCue[:,trial,:] = dat['spks'][:,trial,int(t_goCue[trial]) - 25:int(t_goCue[trial]) + 25]"
   ]
  },
  {
   "cell_type": "code",
   "execution_count": null,
   "metadata": {},
   "outputs": [],
   "source": [
    "def gather_bins(spikes, times,trim_left, trim_right):\n",
    "    times = (times*100).astype(int)\n",
    "#     print(times)\n",
    "    no_of_neurons, no_of_trials, total_time= np.shape(spikes)\n",
    "    extracted_bin = np.zeros((no_of_neurons,no_of_trials,trim_left+trim_right))\n",
    "\n",
    "    for trial in range(no_of_trials):\n",
    "#         print(int(times[trial]) - 25)\n",
    "        extracted_bin[:,trial,:] = spikes[:,trial,int(times[trial]) - trim_left:int(times[trial]) + trim_right]\n",
    "    return extracted_bin"
   ]
  },
  {
   "cell_type": "code",
   "execution_count": null,
   "metadata": {},
   "outputs": [],
   "source": [
    "spikes_visualStim = gather_bins(dat['spks'],np.ones_like(dat['gocue'])*0.5,50,50)\n",
    "for i in range(7):\n",
    "    avg_pcolormesh(i,spikes_visualStim)"
   ]
  },
  {
   "cell_type": "code",
   "execution_count": null,
   "metadata": {},
   "outputs": [],
   "source": [
    "spikes_goCue = gather_bins(dat['spks'],0.05+dat['gocue'],25,25)\n",
    "for i in range(7):\n",
    "    avg_pcolormesh(i,spikes_goCue)"
   ]
  },
  {
   "cell_type": "code",
   "execution_count": null,
   "metadata": {},
   "outputs": [],
   "source": [
    "spikes_response = gather_bins(dat['spks'],0.05+dat['response_time'],1,20)\n",
    "for i in range(7):\n",
    "    avg_pcolormesh(i,spikes_response)"
   ]
  },
  {
   "cell_type": "code",
   "execution_count": null,
   "metadata": {},
   "outputs": [],
   "source": [
    "spikes_feedback = gather_bins(dat['spks'],50+dat['feedback_time'],20,0)\n",
    "for i in range(7):\n",
    "    avg_pcolormesh(i,spikes_feedback)"
   ]
  }
 ],
 "metadata": {
  "kernelspec": {
   "display_name": "Python 3",
   "language": "python",
   "name": "python3"
  },
  "language_info": {
   "codemirror_mode": {
    "name": "ipython",
    "version": 3
   },
   "file_extension": ".py",
   "mimetype": "text/x-python",
   "name": "python",
   "nbconvert_exporter": "python",
   "pygments_lexer": "ipython3",
   "version": "3.7.6"
  }
 },
 "nbformat": 4,
 "nbformat_minor": 4
}
