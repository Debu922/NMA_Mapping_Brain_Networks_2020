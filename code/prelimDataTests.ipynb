{
 "cells": [
  {
   "cell_type": "code",
   "execution_count": 5,
   "metadata": {},
   "outputs": [],
   "source": [
    "import loadData\n",
    "import numpy as np\n",
    "import matplotlib.pyplot as plt\n",
    "import glob"
   ]
  },
  {
   "cell_type": "code",
   "execution_count": 8,
   "metadata": {},
   "outputs": [
    {
     "ename": "NameError",
     "evalue": "name 'data_root' is not defined",
     "output_type": "error",
     "traceback": [
      "\u001b[1;31m---------------------------------------------------------------------------\u001b[0m",
      "\u001b[1;31mNameError\u001b[0m                                 Traceback (most recent call last)",
      "\u001b[1;32m<ipython-input-8-c973af9359b7>\u001b[0m in \u001b[0;36m<module>\u001b[1;34m\u001b[0m\n\u001b[0;32m     25\u001b[0m     \u001b[0mpath\u001b[0m \u001b[1;33m=\u001b[0m \u001b[0msession_paths\u001b[0m\u001b[1;33m[\u001b[0m\u001b[0msession\u001b[0m\u001b[1;33m]\u001b[0m\u001b[1;33m\u001b[0m\u001b[1;33m\u001b[0m\u001b[0m\n\u001b[0;32m     26\u001b[0m \u001b[1;33m\u001b[0m\u001b[0m\n\u001b[1;32m---> 27\u001b[1;33m     \u001b[0msession_date\u001b[0m\u001b[1;33m,\u001b[0m \u001b[0mmouse_name\u001b[0m \u001b[1;33m=\u001b[0m \u001b[0mloadData\u001b[0m\u001b[1;33m.\u001b[0m\u001b[0mget_session_info\u001b[0m\u001b[1;33m(\u001b[0m\u001b[0mdata_root\u001b[0m\u001b[1;33m,\u001b[0m \u001b[0mpath\u001b[0m\u001b[1;33m)\u001b[0m\u001b[1;33m\u001b[0m\u001b[1;33m\u001b[0m\u001b[0m\n\u001b[0m\u001b[0;32m     28\u001b[0m     \u001b[0mgood_clusters\u001b[0m\u001b[1;33m,\u001b[0m \u001b[0mcluster_locations\u001b[0m \u001b[1;33m=\u001b[0m \u001b[0mloadData\u001b[0m\u001b[1;33m.\u001b[0m\u001b[0mget_cluster_info\u001b[0m\u001b[1;33m(\u001b[0m\u001b[0mpath\u001b[0m\u001b[1;33m)\u001b[0m\u001b[1;33m\u001b[0m\u001b[1;33m\u001b[0m\u001b[0m\n\u001b[0;32m     29\u001b[0m     \u001b[0mcluster_spikes\u001b[0m \u001b[1;33m=\u001b[0m \u001b[0mloadData\u001b[0m\u001b[1;33m.\u001b[0m\u001b[0mget_cluster_spikes\u001b[0m\u001b[1;33m(\u001b[0m\u001b[0mpath\u001b[0m\u001b[1;33m)\u001b[0m\u001b[1;33m\u001b[0m\u001b[1;33m\u001b[0m\u001b[0m\n",
      "\u001b[1;32mF:\\NMA\\Mapping Brain Networks\\NMA_Mapping_Brain_Networks_2020\\code\\loadData.py\u001b[0m in \u001b[0;36mget_session_info\u001b[1;34m(root, path)\u001b[0m\n\u001b[0;32m    106\u001b[0m \u001b[1;33m\u001b[0m\u001b[0m\n\u001b[0;32m    107\u001b[0m     \u001b[1;31m#Get substring\u001b[0m\u001b[1;33m\u001b[0m\u001b[1;33m\u001b[0m\u001b[1;33m\u001b[0m\u001b[0m\n\u001b[1;32m--> 108\u001b[1;33m     \u001b[0mname_date\u001b[0m \u001b[1;33m=\u001b[0m \u001b[0mpath\u001b[0m\u001b[1;33m.\u001b[0m\u001b[0mreplace\u001b[0m\u001b[1;33m(\u001b[0m\u001b[0mdata_root\u001b[0m\u001b[1;33m+\u001b[0m\u001b[1;34m'\\\\'\u001b[0m\u001b[1;33m,\u001b[0m\u001b[1;34m''\u001b[0m\u001b[1;33m)\u001b[0m\u001b[1;33m\u001b[0m\u001b[1;33m\u001b[0m\u001b[0m\n\u001b[0m\u001b[0;32m    109\u001b[0m \u001b[1;33m\u001b[0m\u001b[0m\n\u001b[0;32m    110\u001b[0m     \u001b[1;31m#Get date\u001b[0m\u001b[1;33m\u001b[0m\u001b[1;33m\u001b[0m\u001b[1;33m\u001b[0m\u001b[0m\n",
      "\u001b[1;31mNameError\u001b[0m: name 'data_root' is not defined"
     ]
    }
   ],
   "source": [
    "#Enter path to data folder:\n",
    "data_root = '/NMA/Mapping Brain Networks/data/allData'\n",
    "\n",
    "#Get list of files in glob\n",
    "session_paths = glob.glob(data_root + '/*')\n",
    "\n",
    "#Groupings of brain regions\n",
    "regions = [\"vis ctx\", \"thal\", \"hipp\", \"other ctx\", \"midbrain\",  \"basal ganglia\", \"subplate\"]\n",
    "brain_groups = [[\"VISa\", \"VISam\", \"VISl\", \"VISp\", \"VISpm\", \"VISrl\"], # visual cortex\n",
    "                [\"CL\", \"LD\", \"LGd\", \"LH\", \"LP\", \"MD\", \"MG\", \"PO\", \"POL\", \"PT\", \"RT\", \"SPF\", \"TH\", \"VAL\", \"VPL\", \"VPM\"], # thalamus\n",
    "                [\"CA\", \"CA1\", \"CA2\", \"CA3\", \"DG\", \"SUB\", \"POST\"], # hippocampal\n",
    "                [\"ACA\", \"AUD\", \"COA\", \"DP\", \"ILA\", \"MOp\", \"MOs\", \"OLF\", \"ORB\", \"ORBm\", \"PIR\", \"PL\", \"SSp\", \"SSs\", \"RSP\",\" TT\"], # non-visual cortex\n",
    "                [\"APN\", \"IC\", \"MB\", \"MRN\", \"NB\", \"PAG\", \"RN\", \"SCs\", \"SCm\", \"SCig\", \"SCsg\", \"ZI\"], # midbrain\n",
    "                [\"ACB\", \"CP\", \"GPe\", \"LS\", \"LSc\", \"LSr\", \"MS\", \"OT\", \"SNr\", \"SI\"], # basal ganglia \n",
    "                [\"BLA\", \"BMA\", \"EP\", \"EPd\", \"MEA\"] # cortical subplate\n",
    "               ]\n",
    "\n",
    "#Define sessions to load\n",
    "sessions = [11,12] #Pick which sessions to load.\n",
    "\n",
    "#Load sessions\n",
    "dat = {}\n",
    "for session in sessions:\n",
    "    dat[session] = {}\n",
    "    path = session_paths[session]\n",
    "    \n",
    "    session_date, mouse_name = loadData.get_session_info(data_root, path)\n",
    "    good_clusters, cluster_locations = loadData.get_cluster_info(path)\n",
    "    cluster_spikes = loadData.get_cluster_spikes(path)\n",
    "    trial_intervals, visualStim_times, goCue_times, response_times, feedback_times, feedback_type = loadData.get_trial_info(path) \n",
    "    \n",
    "    dat[session]['session_date'] = session_date\n",
    "    dat[session]['mouse_name'] = mouse_name\n",
    "    dat[session]['good_clusters'] = good_clusters\n",
    "    dat[session]['cluster_locations'] = cluster_locations\n",
    "    dat[session]['cluster_spikes'] = cluster_spikes\n",
    "    dat[session]['trial_intervals'] = trial_intervals\n",
    "    dat[session]['visualStim_times'] = visualStim_times\n",
    "    dat[session]['goCue_times'] = goCue_times\n",
    "    dat[session]['response_times'] = response_times\n",
    "    dat[session]['feedback_times'] = feedback_times\n",
    "    dat[session]['feedback_type'] = feedback_type\n",
    "    \n",
    "    print('Data for session',session,'loaded.')"
   ]
  },
  {
   "cell_type": "code",
   "execution_count": null,
   "metadata": {},
   "outputs": [],
   "source": []
  }
 ],
 "metadata": {
  "kernelspec": {
   "display_name": "Python 3",
   "language": "python",
   "name": "python3"
  },
  "language_info": {
   "codemirror_mode": {
    "name": "ipython",
    "version": 3
   },
   "file_extension": ".py",
   "mimetype": "text/x-python",
   "name": "python",
   "nbconvert_exporter": "python",
   "pygments_lexer": "ipython3",
   "version": "3.7.6"
  }
 },
 "nbformat": 4,
 "nbformat_minor": 4
}
