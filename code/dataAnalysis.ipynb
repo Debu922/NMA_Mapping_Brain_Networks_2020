{
 "cells": [
  {
   "cell_type": "code",
   "execution_count": 1,
   "metadata": {},
   "outputs": [],
   "source": [
    "#############################################################\n",
    "# Author(s): Debaditya, Anwesha, Anna                       #\n",
    "#############################################################"
   ]
  },
  {
   "cell_type": "code",
   "execution_count": 2,
   "metadata": {},
   "outputs": [
    {
     "data": {
      "text/plain": [
       "16"
      ]
     },
     "execution_count": 2,
     "metadata": {},
     "output_type": "execute_result"
    }
   ],
   "source": [
    "#Download the data files.\n",
    "\n",
    "import os, requests\n",
    "\n",
    "fname = []\n",
    "for j in range(3):\n",
    "    fname.append('steinmetz_part%d.npz'%j)\n",
    "url = [\"https://osf.io/agvxh/download\"]\n",
    "url.append(\"https://osf.io/uv3mw/download\")\n",
    "url.append(\"https://osf.io/ehmw2/download\")\n",
    "\n",
    "for j in range(len(url)):\n",
    "    if not os.path.isfile(fname[j]):\n",
    "        try:\n",
    "            r = requests.get(url[j])\n",
    "        except requests.ConnectionError:\n",
    "            print(\"!!! Failed to download data !!!\")\n",
    "        else:\n",
    "            if r.status_code != requests.codes.ok:\n",
    "                print(\"!!! Failed to download data !!!\")\n",
    "            else:\n",
    "                with open(fname[j], \"wb\") as fid:\n",
    "                    fid.write(r.content)\n",
    "                    \n",
    "#Setup dependencies\n",
    "\n",
    "#Dependencies:\n",
    "#numpy\n",
    "#matplotlib\n",
    "\n",
    "import numpy as np\n",
    "from matplotlib import rcParams \n",
    "from matplotlib import pyplot as plt\n",
    "import matplotlib.gridspec as gridspec\n",
    "\n",
    "rcParams['figure.figsize'] = [16, 10]\n",
    "rcParams['axes.spines.top'] = False\n",
    "rcParams['axes.spines.right'] = False\n",
    "rcParams['figure.autolayout'] = True\n",
    "\n",
    "#Groupings of brain regions\n",
    "\n",
    "regions = [\"vis ctx\", \"thal\", \"hipp\", \"other ctx\", \"midbrain\", \"basal ganglia\", \"cortical subplate\", \"other\"]\n",
    "brain_groups = [[\"VISa\", \"VISam\", \"VISl\", \"VISp\", \"VISpm\", \"VISrl\"], # visual cortex\n",
    "                [\"CL\", \"LD\", \"LGd\", \"LH\", \"LP\", \"MD\", \"MG\", \"PO\", \"POL\", \"PT\", \"RT\", \"SPF\", \"TH\", \"VAL\", \"VPL\", \"VPM\"], # thalamus\n",
    "                [\"CA\", \"CA1\", \"CA2\", \"CA3\", \"DG\", \"SUB\", \"POST\"], # hippocampal\n",
    "                [\"ACA\", \"AUD\", \"COA\", \"DP\", \"ILA\", \"MOp\", \"MOs\", \"OLF\", \"ORB\", \"ORBm\", \"PIR\", \"PL\", \"SSp\", \"SSs\", \"RSP\",\" TT\"], # non-visual cortex\n",
    "                [\"APN\", \"IC\", \"MB\", \"MRN\", \"NB\", \"PAG\", \"RN\", \"SCs\", \"SCm\", \"SCig\", \"SCsg\", \"ZI\"], # midbrain\n",
    "                [\"ACB\", \"CP\", \"GPe\", \"LS\", \"LSc\", \"LSr\", \"MS\", \"OT\", \"SNr\", \"SI\"], # basal ganglia \n",
    "                [\"BLA\", \"BMA\", \"EP\", \"EPd\", \"MEA\"] # cortical subplate\n",
    "                ]\n",
    "brain_groups_all = brain_groups[:]\n",
    "n_regions = len(regions)\n",
    "\n",
    "#Load the data\n",
    "\n",
    "def load_alldat():\n",
    "    alldat = np.array([])\n",
    "    for j in range(len(fname)):\n",
    "        alldat = np.hstack((alldat, np.load('steinmetz_part%d.npz'%j, allow_pickle=True)['dat']))\n",
    "    return alldat\n",
    "\n",
    "alldat = load_alldat()\n",
    "dt = alldat[0]['bin_size']\n",
    "\n",
    "# Garbage collection\n",
    "import gc\n",
    "gc.collect()"
   ]
  },
  {
   "cell_type": "code",
   "execution_count": 3,
   "metadata": {},
   "outputs": [
    {
     "name": "stdout",
     "output_type": "stream",
     "text": [
      "72\n"
     ]
    }
   ],
   "source": [
    "brain_groups_all = list(np.hstack(brain_groups))\n",
    "print(len(brain_groups_all))"
   ]
  },
  {
   "cell_type": "code",
   "execution_count": 4,
   "metadata": {},
   "outputs": [
    {
     "name": "stdout",
     "output_type": "stream",
     "text": [
      "spks\n",
      "wheel\n",
      "pupil\n",
      "response\n",
      "response_time\n",
      "bin_size\n",
      "stim_onset\n",
      "contrast_right\n",
      "contrast_left\n",
      "brain_area\n",
      "feedback_time\n",
      "feedback_type\n",
      "gocue\n",
      "mouse_name\n",
      "date_exp\n",
      "trough_to_peak\n",
      "active_trials\n",
      "contrast_left_passive\n",
      "contrast_right_passive\n",
      "spks_passive\n",
      "pupil_passive\n",
      "wheel_passive\n",
      "prev_reward\n",
      "ccf\n",
      "ccf_axes\n",
      "cellid_orig\n",
      "reaction_time\n",
      "face\n",
      "face_passive\n",
      "licks\n",
      "licks_passive\n"
     ]
    }
   ],
   "source": [
    "for key in alldat[0].keys():\n",
    "    print(key)"
   ]
  },
  {
   "cell_type": "code",
   "execution_count": 5,
   "metadata": {},
   "outputs": [],
   "source": [
    "#Generate some metadata for the neuron regions.\n",
    "\n",
    "def generate_metadata(dat):\n",
    "    n_neurons = (len(dat['brain_area']))\n",
    "    n_regions = len(regions)\n",
    "    region_index = np.zeros(n_neurons)\n",
    "    group_index = np.zeros(n_neurons)\n",
    "    for region in range(len(regions)-1):\n",
    "        region_index[np.isin(dat['brain_area'], brain_groups[region])] = region\n",
    "    for group in range(len(brain_groups_all)):\n",
    "        group_index[np.where(dat['brain_area']==brain_groups_all[group])[0]] = group\n",
    "    return n_neurons, region_index, group_index"
   ]
  },
  {
   "cell_type": "code",
   "execution_count": 6,
   "metadata": {},
   "outputs": [
    {
     "data": {
      "text/plain": [
       "(734, 214, 250)"
      ]
     },
     "execution_count": 6,
     "metadata": {},
     "output_type": "execute_result"
    }
   ],
   "source": [
    "np.shape(alldat[0]['spks'])"
   ]
  },
  {
   "cell_type": "code",
   "execution_count": 7,
   "metadata": {},
   "outputs": [],
   "source": [
    "#Choose dataset\n",
    "session =11\n",
    "dat = alldat[session]\n",
    "dt = dat['bin_size']\n",
    "no_of_bins = np.shape(dat['spks'])[2]\n",
    "n_neurons, region_index, group_index = generate_metadata(dat)\n",
    "spikes_all = dat['spks']\n",
    "spikes_passive = dat['spks_passive']\n",
    "groups_present = np.unique(dat['brain_area'])\n",
    "n_group_present = len(np.unique(dat['brain_area']))\n",
    "\n",
    "CR_idx = np.where(dat['feedback_type']==1)[0]\n",
    "WR_idx = np.where(dat['feedback_type']==-1)[0]\n",
    "spikes_CR = dat['spks'][:, CR_idx, :]\n",
    "spikes_WR = dat['spks'][:, WR_idx, :]"
   ]
  },
  {
   "cell_type": "code",
   "execution_count": 8,
   "metadata": {},
   "outputs": [
    {
     "name": "stdout",
     "output_type": "stream",
     "text": [
      "[ 0.  1.  3.  8.  9. 11. 23. 26. 27. 29. 35. 40.]\n"
     ]
    }
   ],
   "source": [
    "print(np.unique(group_index))"
   ]
  },
  {
   "cell_type": "code",
   "execution_count": 9,
   "metadata": {},
   "outputs": [
    {
     "data": {
      "image/png": "[encoded data removed]",
      "text/plain": [
       "<Figure size 1152x720 with 2 Axes>"
      ]
     },
     "metadata": {
      "needs_background": "light"
     },
     "output_type": "display_data"
    },
    {
     "data": {
      "image/png": "[encoded data removed]",
      "text/plain": [
       "<Figure size 1152x720 with 2 Axes>"
      ]
     },
     "metadata": {
      "needs_background": "light"
     },
     "output_type": "display_data"
    }
   ],
   "source": [
    "group_activation_CR = np.zeros((n_group_present, no_of_bins))\n",
    "group_activation_WR = np.zeros((n_group_present, no_of_bins))\n",
    "for idx, group in enumerate(groups_present):\n",
    "    CR_spikes = np.mean(spikes_CR[np.where(dat['brain_area'] == group)[0],:,:],axis=(0,1))#/np.mean(spikes_passive[np.where(dat['brain_area'] == group)[0],:,:],axis=(0,1,2))\n",
    "    WR_spikes = np.mean(spikes_WR[np.where(dat['brain_area'] == group)[0],:,:],axis=(0,1))#/np.mean(spikes_passive[np.where(dat['brain_area'] == group)[0],:,:],axis=(0,1,2))\n",
    "    \n",
    "    #Normalize\n",
    "    CR_spikes = (CR_spikes - np.min(CR_spikes))/np.ptp(CR_spikes)\n",
    "    WR_spikes = (WR_spikes - np.min(WR_spikes))/np.ptp(WR_spikes)\n",
    "    \n",
    "    group_activation_CR[idx,:] = CR_spikes\n",
    "    group_activation_WR[idx,:] = WR_spikes\n",
    "\n",
    "plt.pcolormesh(group_activation_CR)\n",
    "plt.yticks(np.arange(0.5,len(groups_present),1),groups_present)\n",
    "plt.ylabel('Brain Group')\n",
    "plt.xlabel('Time Bins (10ms)')\n",
    "plt.title('Spiking Activity during trials with correct response in session '+str(session))\n",
    "plt.colorbar()\n",
    "plt.show()\n",
    "plt.pcolormesh(group_activation_WR)\n",
    "plt.yticks(np.arange(0.5,len(groups_present),1),groups_present)\n",
    "plt.ylabel('Brain Group')\n",
    "plt.xlabel('Time Bins (10ms)')\n",
    "plt.title('Spiking Activity during trials with incorrect response in session '+str(session))\n",
    "plt.colorbar()\n",
    "plt.show()"
   ]
  },
  {
   "cell_type": "code",
   "execution_count": 13,
   "metadata": {},
   "outputs": [
    {
     "ename": "AttributeError",
     "evalue": "module 'scipy' has no attribute 'signal'",
     "output_type": "error",
     "traceback": [
      "\u001b[1;31m---------------------------------------------------------------------------\u001b[0m",
      "\u001b[1;31mAttributeError\u001b[0m                            Traceback (most recent call last)",
      "\u001b[1;32m<ipython-input-13-13cb070019d6>\u001b[0m in \u001b[0;36m<module>\u001b[1;34m\u001b[0m\n\u001b[0;32m     11\u001b[0m \u001b[1;33m\u001b[0m\u001b[0m\n\u001b[0;32m     12\u001b[0m     \u001b[1;31m#Smooth the data\u001b[0m\u001b[1;33m\u001b[0m\u001b[1;33m\u001b[0m\u001b[1;33m\u001b[0m\u001b[0m\n\u001b[1;32m---> 13\u001b[1;33m     \u001b[0mCR_spikes\u001b[0m \u001b[1;33m=\u001b[0m \u001b[0msp\u001b[0m\u001b[1;33m.\u001b[0m\u001b[0msignal\u001b[0m\u001b[1;33m.\u001b[0m\u001b[0msavgol_filter\u001b[0m\u001b[1;33m(\u001b[0m\u001b[0mCR_spikes\u001b[0m\u001b[1;33m,\u001b[0m\u001b[1;36m5\u001b[0m\u001b[1;33m,\u001b[0m\u001b[1;36m3\u001b[0m\u001b[1;33m)\u001b[0m\u001b[1;33m\u001b[0m\u001b[1;33m\u001b[0m\u001b[0m\n\u001b[0m\u001b[0;32m     14\u001b[0m     \u001b[0mWR_spikes\u001b[0m \u001b[1;33m=\u001b[0m \u001b[0msp\u001b[0m\u001b[1;33m.\u001b[0m\u001b[0msignal\u001b[0m\u001b[1;33m.\u001b[0m\u001b[0msavgol_filter\u001b[0m\u001b[1;33m(\u001b[0m\u001b[0mWR_spikes\u001b[0m\u001b[1;33m,\u001b[0m\u001b[1;36m5\u001b[0m\u001b[1;33m,\u001b[0m\u001b[1;36m3\u001b[0m\u001b[1;33m)\u001b[0m\u001b[1;33m\u001b[0m\u001b[1;33m\u001b[0m\u001b[0m\n\u001b[0;32m     15\u001b[0m     \u001b[1;31m#Normalize\u001b[0m\u001b[1;33m\u001b[0m\u001b[1;33m\u001b[0m\u001b[1;33m\u001b[0m\u001b[0m\n",
      "\u001b[1;31mAttributeError\u001b[0m: module 'scipy' has no attribute 'signal'"
     ]
    }
   ],
   "source": [
    "import scipy as sp\n",
    "group_activation_CR = np.zeros((n_group_present, no_of_bins))\n",
    "group_activation_CR_tr = []\n",
    "group_activation_WR = np.zeros((n_group_present, no_of_bins))\n",
    "group_activation_WR_tr = []\n",
    "for idx, group in enumerate(groups_present):\n",
    "    group_activation_CR_tr.append([])\n",
    "    group_activation_WR_tr.append([])\n",
    "    CR_spikes = np.mean(spikes_CR[np.where(dat['brain_area'] == group)[0],:,:],axis=(0,1))#/np.mean(spikes_passive[np.where(dat['brain_area'] == group)[0],:,:],axis=(0,1,2))\n",
    "    WR_spikes = np.mean(spikes_WR[np.where(dat['brain_area'] == group)[0],:,:],axis=(0,1))#/np.mean(spikes_passive[np.where(dat['brain_area'] == group)[0],:,:],axis=(0,1,2))\n",
    "    \n",
    "    #Smooth the data\n",
    "    CR_spikes = sp.signal.savgol_filter(CR_spikes,5,3)\n",
    "    WR_spikes = sp.signal.savgol_filter(WR_spikes,5,3)\n",
    "    #Normalize\n",
    "    CR_spikes = (CR_spikes - np.min(CR_spikes))/np.ptp(CR_spikes)\n",
    "    \n",
    "    group_activation_CR_tr[idx] = np.where(CR_spikes>(CR_spikes.mean()+1.96*CR_spikes.std()))[0]\n",
    "    \n",
    "    group_activation_CR[idx,:] = CR_spikes\n",
    "    group_activation_WR[idx,:] = WR_spikes\n",
    "\n",
    "plt.pcolormesh(group_activation_CR/dt)\n",
    "#     WR_spikes = (WR_spikes - np.min(WR_spikes))/np.ptp(WR_spikes)\n",
    "for idx in range(len(groups_present)):\n",
    "    plt.plot(group_activation_CR_tr[idx],np.ones(len(group_activation_CR_tr[idx]))*(0.5+idx),'r.')\n",
    "plt.yticks(np.arange(0.5,len(groups_present),1),groups_present)\n",
    "plt.ylabel('Brain Group')\n",
    "plt.xlabel('Time Bins (10ms)')\n",
    "plt.title('Spiking Activity during trials with correct response in session '+str(session))\n",
    "plt.colorbar()\n",
    "plt.show()\n",
    "plt.pcolormesh(group_activation_WR)\n",
    "plt.yticks(np.arange(0.5,len(groups_present),1),groups_present)\n",
    "plt.ylabel('Brain Group')\n",
    "plt.xlabel('Time Bins (10ms)')\n",
    "plt.title('Spiking Activity during trials with incorrect response in session '+str(session))\n",
    "plt.colorbar()\n",
    "plt.show()"
   ]
  },
  {
   "cell_type": "code",
   "execution_count": 14,
   "metadata": {},
   "outputs": [],
   "source": [
    "#Choose dataset\n",
    "session = 11\n",
    "dat = alldat[session]\n",
    "dt = dat['bin_size']\n",
    "n_neurons, n_trials, no_of_bins = np.shape(dat['spks'])\n",
    "n_neurons, region_index, group_index = generate_metadata(dat)\n",
    "spikes_all = dat['spks']\n",
    "spikes_passive = dat['spks_passive']\n",
    "groups_present = np.unique(dat['brain_area'])\n",
    "n_group_present = len(np.unique(dat['brain_area']))\n",
    "\n",
    "CR_idx = np.where(dat['feedback_type']==1)[0]\n",
    "WR_idx = np.where(dat['feedback_type']==-1)[0]\n",
    "spikes_CR = dat['spks'][:, CR_idx, :]\n",
    "spikes_WR = dat['spks'][:, WR_idx, :]"
   ]
  },
  {
   "cell_type": "code",
   "execution_count": 15,
   "metadata": {},
   "outputs": [
    {
     "name": "stdout",
     "output_type": "stream",
     "text": [
      "(400, 250) (400, 1)\n",
      "(400, 250) (102, 250)\n"
     ]
    },
    {
     "data": {
      "text/plain": [
       "Ridge(alpha=0.5, copy_X=True, fit_intercept=True, max_iter=None,\n",
       "      normalize=False, random_state=None, solver='auto', tol=0.001)"
      ]
     },
     "execution_count": 15,
     "metadata": {},
     "output_type": "execute_result"
    }
   ],
   "source": [
    "#Lets build a linear classifier!\n",
    "from sklearn import linear_model\n",
    "spikes_CR_groups = np.zeros((n_group_present,np.shape(spikes_CR)[1],np.shape(spikes_CR)[2]))\n",
    "for idx, group in enumerate(groups_present):\n",
    "    spikes_CR_groups[idx] = np.mean(spikes_CR[np.where(dat['brain_area']==group)[0]])\n",
    "\n",
    "np.random.seed(2020)\n",
    "X_train = np.vstack((spikes_CR_groups[4,:200,:],spikes_CR_groups[10,:200,:]))\n",
    "y_train = np.vstack((np.ones((200,1))*4,np.ones((200,1))*10))\n",
    "random_train = np.random.permutation(400)\n",
    "print(np.shape(X_train),np.shape(y_train))\n",
    "X_train = X_train[random_train]\n",
    "y_train = y_train[random_train]\n",
    "\n",
    "X_test = np.vstack((spikes_CR_groups[4,200:,:],spikes_CR_groups[10,200:,:]))\n",
    "y_test = np.vstack((np.ones((51,1))*4,np.ones((51,1))*10))\n",
    "random_test = np.random.permutation(102)\n",
    "X_test = X_test[random_test]\n",
    "y_test = y_test[random_test]\n",
    "print(np.shape(X_train),np.shape(X_test))\n",
    "\n",
    "classifer_model = linear_model.Ridge(alpha=0.5)\n",
    "\n",
    "classifer_model.fit(X_train,y_train)"
   ]
  },
  {
   "cell_type": "code",
   "execution_count": 16,
   "metadata": {},
   "outputs": [
    {
     "name": "stdout",
     "output_type": "stream",
     "text": [
      "R value of classifier on train data: 0.9999977367669917\n",
      "R value of classifier on test data: 0.9999977367669917\n",
      "10\n"
     ]
    }
   ],
   "source": [
    "print(\"R value of classifier on train data:\",classifer_model.score(X_train,y_train))\n",
    "print(\"R value of classifier on test data:\",classifer_model.score(X_test,y_test))\n",
    "classifer_model.predict(np.reshape(X_test[4,:],(1,-1)))\n",
    "print(10)"
   ]
  },
  {
   "cell_type": "code",
   "execution_count": null,
   "metadata": {},
   "outputs": [],
   "source": [
    "CR_trials = np.shape(spikes_CR)[2]\n",
    "\n",
    "X = np.array(spikes_CR[:,0,:])\n",
    "y = np.reshape(np.array(group_index),(-1,1))\n",
    "for trial in range(1,CR_trials):\n",
    "    X = np.vstack((X,spikes_CR[:,trial,:]))\n",
    "    y = np.vstack((y,y))"
   ]
  },
  {
   "cell_type": "code",
   "execution_count": null,
   "metadata": {},
   "outputs": [],
   "source": [
    "print(np.shape(X),np.shape(y))"
   ]
  }
 ],
 "metadata": {
  "kernelspec": {
   "display_name": "Python 3",
   "language": "python",
   "name": "python3"
  },
  "language_info": {
   "codemirror_mode": {
    "name": "ipython",
    "version": 3
   },
   "file_extension": ".py",
   "mimetype": "text/x-python",
   "name": "python",
   "nbconvert_exporter": "python",
   "pygments_lexer": "ipython3",
   "version": "3.7.6"
  }
 },
 "nbformat": 4,
 "nbformat_minor": 4
}
